{
 "cells": [
  {
   "cell_type": "markdown",
   "metadata": {},
   "source": [
    "## 1. Import Libraries "
   ]
  },
  {
   "cell_type": "code",
   "execution_count": 1,
   "metadata": {},
   "outputs": [],
   "source": [
    "import numpy as np\n",
    "import pandas as pd\n",
    "import seaborn as sns\n",
    "import matplotlib.pyplot as plt\n",
    "%matplotlib inline\n"
   ]
  },
  {
   "cell_type": "code",
   "execution_count": 4,
   "metadata": {},
   "outputs": [],
   "source": [
    "from sklearn.model_selection import train_test_split\n",
    "from sklearn.metrics import confusion_matrix\n",
    "from sklearn.metrics import accuracy_score\n",
    "from sklearn.metrics import classification_report\n",
    "from sklearn.tree import DecisionTreeClassifier\n",
    "from sklearn.model_selection import GridSearchCV\n"
   ]
  },
  {
   "cell_type": "code",
   "execution_count": 5,
   "metadata": {},
   "outputs": [],
   "source": [
    "pd.set_option(\"display.max_row\", 800)\n",
    "pd.set_option(\"display.max_column\", 500)"
   ]
  },
  {
   "cell_type": "markdown",
   "metadata": {},
   "source": [
    "## 2. Load Data"
   ]
  },
  {
   "cell_type": "code",
   "execution_count": 6,
   "metadata": {},
   "outputs": [],
   "source": [
    "df = pd.read_csv(r\"C:\\Users\\nikhi\\Downloads\\Loan-Repayment-Prediction-master\\loan_data.csv\")"
   ]
  },
  {
   "cell_type": "code",
   "execution_count": 9,
   "metadata": {},
   "outputs": [
    {
     "data": {
      "text/plain": [
       "(9578, 14)"
      ]
     },
     "execution_count": 9,
     "metadata": {},
     "output_type": "execute_result"
    }
   ],
   "source": [
    "df.shape"
   ]
  },
  {
   "cell_type": "markdown",
   "metadata": {},
   "source": [
    "## 3. Understanding the data"
   ]
  },
  {
   "cell_type": "code",
   "execution_count": 11,
   "metadata": {},
   "outputs": [
    {
     "name": "stdout",
     "output_type": "stream",
     "text": [
      "<class 'pandas.core.frame.DataFrame'>\n",
      "RangeIndex: 9578 entries, 0 to 9577\n",
      "Data columns (total 14 columns):\n",
      " #   Column             Non-Null Count  Dtype  \n",
      "---  ------             --------------  -----  \n",
      " 0   credit.policy      9578 non-null   int64  \n",
      " 1   purpose            9578 non-null   object \n",
      " 2   int.rate           9578 non-null   float64\n",
      " 3   installment        9578 non-null   float64\n",
      " 4   log.annual.inc     9578 non-null   float64\n",
      " 5   dti                9578 non-null   float64\n",
      " 6   fico               9578 non-null   int64  \n",
      " 7   days.with.cr.line  9578 non-null   float64\n",
      " 8   revol.bal          9578 non-null   int64  \n",
      " 9   revol.util         9578 non-null   float64\n",
      " 10  inq.last.6mths     9578 non-null   int64  \n",
      " 11  delinq.2yrs        9578 non-null   int64  \n",
      " 12  pub.rec            9578 non-null   int64  \n",
      " 13  not.fully.paid     9578 non-null   int64  \n",
      "dtypes: float64(6), int64(7), object(1)\n",
      "memory usage: 1.0+ MB\n"
     ]
    }
   ],
   "source": [
    "df.info()"
   ]
  },
  {
   "cell_type": "code",
   "execution_count": 16,
   "metadata": {},
   "outputs": [],
   "source": [
    "#df.columns"
   ]
  },
  {
   "cell_type": "code",
   "execution_count": 15,
   "metadata": {},
   "outputs": [
    {
     "data": {
      "text/html": [
       "<div>\n",
       "<style scoped>\n",
       "    .dataframe tbody tr th:only-of-type {\n",
       "        vertical-align: middle;\n",
       "    }\n",
       "\n",
       "    .dataframe tbody tr th {\n",
       "        vertical-align: top;\n",
       "    }\n",
       "\n",
       "    .dataframe thead th {\n",
       "        text-align: right;\n",
       "    }\n",
       "</style>\n",
       "<table border=\"1\" class=\"dataframe\">\n",
       "  <thead>\n",
       "    <tr style=\"text-align: right;\">\n",
       "      <th></th>\n",
       "      <th>credit_policy</th>\n",
       "      <th>purpose</th>\n",
       "      <th>int_rate</th>\n",
       "      <th>installment</th>\n",
       "      <th>log_annual_inc</th>\n",
       "      <th>dti</th>\n",
       "      <th>fico</th>\n",
       "      <th>days_with_cr_line</th>\n",
       "      <th>revol_bal</th>\n",
       "      <th>revol_util</th>\n",
       "      <th>inq_last_6mths</th>\n",
       "      <th>delinq_2yrs</th>\n",
       "      <th>pub_rec</th>\n",
       "      <th>not_fully_paid</th>\n",
       "    </tr>\n",
       "  </thead>\n",
       "  <tbody>\n",
       "    <tr>\n",
       "      <th>0</th>\n",
       "      <td>1</td>\n",
       "      <td>debt_consolidation</td>\n",
       "      <td>0.1189</td>\n",
       "      <td>829.1</td>\n",
       "      <td>11.350407</td>\n",
       "      <td>19.48</td>\n",
       "      <td>737</td>\n",
       "      <td>5639.958333</td>\n",
       "      <td>28854</td>\n",
       "      <td>52.1</td>\n",
       "      <td>0</td>\n",
       "      <td>0</td>\n",
       "      <td>0</td>\n",
       "      <td>0</td>\n",
       "    </tr>\n",
       "  </tbody>\n",
       "</table>\n",
       "</div>"
      ],
      "text/plain": [
       "   credit_policy             purpose  int_rate  installment  log_annual_inc  \\\n",
       "0              1  debt_consolidation    0.1189        829.1       11.350407   \n",
       "\n",
       "     dti  fico  days_with_cr_line  revol_bal  revol_util  inq_last_6mths  \\\n",
       "0  19.48   737        5639.958333      28854        52.1               0   \n",
       "\n",
       "   delinq_2yrs  pub_rec  not_fully_paid  \n",
       "0            0        0               0  "
      ]
     },
     "execution_count": 15,
     "metadata": {},
     "output_type": "execute_result"
    }
   ],
   "source": [
    "df = df.rename(columns={'credit.policy' :'credit_policy' , 'int.rate': 'int_rate', 'log.annual.inc' :'log_annual_inc',\n",
    "                        'days.with.cr.line':'days_with_cr_line', 'revol.bal':'revol_bal', 'revol.util':'revol_util',\n",
    "                        'inq.last.6mths':'inq_last_6mths', 'delinq.2yrs':'delinq_2yrs', 'pub.rec':'pub_rec', \n",
    "                        'not.fully.paid':'not_fully_paid'})\n",
    "df.head(1)"
   ]
  },
  {
   "cell_type": "code",
   "execution_count": 18,
   "metadata": {},
   "outputs": [
    {
     "data": {
      "text/html": [
       "<div>\n",
       "<style scoped>\n",
       "    .dataframe tbody tr th:only-of-type {\n",
       "        vertical-align: middle;\n",
       "    }\n",
       "\n",
       "    .dataframe tbody tr th {\n",
       "        vertical-align: top;\n",
       "    }\n",
       "\n",
       "    .dataframe thead th {\n",
       "        text-align: right;\n",
       "    }\n",
       "</style>\n",
       "<table border=\"1\" class=\"dataframe\">\n",
       "  <thead>\n",
       "    <tr style=\"text-align: right;\">\n",
       "      <th></th>\n",
       "      <th>credit_policy</th>\n",
       "      <th>int_rate</th>\n",
       "      <th>installment</th>\n",
       "      <th>log_annual_inc</th>\n",
       "      <th>dti</th>\n",
       "      <th>fico</th>\n",
       "      <th>days_with_cr_line</th>\n",
       "      <th>revol_bal</th>\n",
       "      <th>revol_util</th>\n",
       "      <th>inq_last_6mths</th>\n",
       "      <th>delinq_2yrs</th>\n",
       "      <th>pub_rec</th>\n",
       "      <th>not_fully_paid</th>\n",
       "    </tr>\n",
       "  </thead>\n",
       "  <tbody>\n",
       "    <tr>\n",
       "      <th>count</th>\n",
       "      <td>9578.000000</td>\n",
       "      <td>9578.000000</td>\n",
       "      <td>9578.000000</td>\n",
       "      <td>9578.000000</td>\n",
       "      <td>9578.000000</td>\n",
       "      <td>9578.000000</td>\n",
       "      <td>9578.000000</td>\n",
       "      <td>9.578000e+03</td>\n",
       "      <td>9578.000000</td>\n",
       "      <td>9578.000000</td>\n",
       "      <td>9578.000000</td>\n",
       "      <td>9578.000000</td>\n",
       "      <td>9578.000000</td>\n",
       "    </tr>\n",
       "    <tr>\n",
       "      <th>mean</th>\n",
       "      <td>0.804970</td>\n",
       "      <td>0.122640</td>\n",
       "      <td>319.089413</td>\n",
       "      <td>10.932117</td>\n",
       "      <td>12.606679</td>\n",
       "      <td>710.846314</td>\n",
       "      <td>4560.767197</td>\n",
       "      <td>1.691396e+04</td>\n",
       "      <td>46.799236</td>\n",
       "      <td>1.577469</td>\n",
       "      <td>0.163708</td>\n",
       "      <td>0.062122</td>\n",
       "      <td>0.160054</td>\n",
       "    </tr>\n",
       "    <tr>\n",
       "      <th>std</th>\n",
       "      <td>0.396245</td>\n",
       "      <td>0.026847</td>\n",
       "      <td>207.071301</td>\n",
       "      <td>0.614813</td>\n",
       "      <td>6.883970</td>\n",
       "      <td>37.970537</td>\n",
       "      <td>2496.930377</td>\n",
       "      <td>3.375619e+04</td>\n",
       "      <td>29.014417</td>\n",
       "      <td>2.200245</td>\n",
       "      <td>0.546215</td>\n",
       "      <td>0.262126</td>\n",
       "      <td>0.366676</td>\n",
       "    </tr>\n",
       "    <tr>\n",
       "      <th>min</th>\n",
       "      <td>0.000000</td>\n",
       "      <td>0.060000</td>\n",
       "      <td>15.670000</td>\n",
       "      <td>7.547502</td>\n",
       "      <td>0.000000</td>\n",
       "      <td>612.000000</td>\n",
       "      <td>178.958333</td>\n",
       "      <td>0.000000e+00</td>\n",
       "      <td>0.000000</td>\n",
       "      <td>0.000000</td>\n",
       "      <td>0.000000</td>\n",
       "      <td>0.000000</td>\n",
       "      <td>0.000000</td>\n",
       "    </tr>\n",
       "    <tr>\n",
       "      <th>25%</th>\n",
       "      <td>1.000000</td>\n",
       "      <td>0.103900</td>\n",
       "      <td>163.770000</td>\n",
       "      <td>10.558414</td>\n",
       "      <td>7.212500</td>\n",
       "      <td>682.000000</td>\n",
       "      <td>2820.000000</td>\n",
       "      <td>3.187000e+03</td>\n",
       "      <td>22.600000</td>\n",
       "      <td>0.000000</td>\n",
       "      <td>0.000000</td>\n",
       "      <td>0.000000</td>\n",
       "      <td>0.000000</td>\n",
       "    </tr>\n",
       "    <tr>\n",
       "      <th>50%</th>\n",
       "      <td>1.000000</td>\n",
       "      <td>0.122100</td>\n",
       "      <td>268.950000</td>\n",
       "      <td>10.928884</td>\n",
       "      <td>12.665000</td>\n",
       "      <td>707.000000</td>\n",
       "      <td>4139.958333</td>\n",
       "      <td>8.596000e+03</td>\n",
       "      <td>46.300000</td>\n",
       "      <td>1.000000</td>\n",
       "      <td>0.000000</td>\n",
       "      <td>0.000000</td>\n",
       "      <td>0.000000</td>\n",
       "    </tr>\n",
       "    <tr>\n",
       "      <th>75%</th>\n",
       "      <td>1.000000</td>\n",
       "      <td>0.140700</td>\n",
       "      <td>432.762500</td>\n",
       "      <td>11.291293</td>\n",
       "      <td>17.950000</td>\n",
       "      <td>737.000000</td>\n",
       "      <td>5730.000000</td>\n",
       "      <td>1.824950e+04</td>\n",
       "      <td>70.900000</td>\n",
       "      <td>2.000000</td>\n",
       "      <td>0.000000</td>\n",
       "      <td>0.000000</td>\n",
       "      <td>0.000000</td>\n",
       "    </tr>\n",
       "    <tr>\n",
       "      <th>max</th>\n",
       "      <td>1.000000</td>\n",
       "      <td>0.216400</td>\n",
       "      <td>940.140000</td>\n",
       "      <td>14.528354</td>\n",
       "      <td>29.960000</td>\n",
       "      <td>827.000000</td>\n",
       "      <td>17639.958330</td>\n",
       "      <td>1.207359e+06</td>\n",
       "      <td>119.000000</td>\n",
       "      <td>33.000000</td>\n",
       "      <td>13.000000</td>\n",
       "      <td>5.000000</td>\n",
       "      <td>1.000000</td>\n",
       "    </tr>\n",
       "  </tbody>\n",
       "</table>\n",
       "</div>"
      ],
      "text/plain": [
       "       credit_policy     int_rate  installment  log_annual_inc          dti  \\\n",
       "count    9578.000000  9578.000000  9578.000000     9578.000000  9578.000000   \n",
       "mean        0.804970     0.122640   319.089413       10.932117    12.606679   \n",
       "std         0.396245     0.026847   207.071301        0.614813     6.883970   \n",
       "min         0.000000     0.060000    15.670000        7.547502     0.000000   \n",
       "25%         1.000000     0.103900   163.770000       10.558414     7.212500   \n",
       "50%         1.000000     0.122100   268.950000       10.928884    12.665000   \n",
       "75%         1.000000     0.140700   432.762500       11.291293    17.950000   \n",
       "max         1.000000     0.216400   940.140000       14.528354    29.960000   \n",
       "\n",
       "              fico  days_with_cr_line     revol_bal   revol_util  \\\n",
       "count  9578.000000        9578.000000  9.578000e+03  9578.000000   \n",
       "mean    710.846314        4560.767197  1.691396e+04    46.799236   \n",
       "std      37.970537        2496.930377  3.375619e+04    29.014417   \n",
       "min     612.000000         178.958333  0.000000e+00     0.000000   \n",
       "25%     682.000000        2820.000000  3.187000e+03    22.600000   \n",
       "50%     707.000000        4139.958333  8.596000e+03    46.300000   \n",
       "75%     737.000000        5730.000000  1.824950e+04    70.900000   \n",
       "max     827.000000       17639.958330  1.207359e+06   119.000000   \n",
       "\n",
       "       inq_last_6mths  delinq_2yrs      pub_rec  not_fully_paid  \n",
       "count     9578.000000  9578.000000  9578.000000     9578.000000  \n",
       "mean         1.577469     0.163708     0.062122        0.160054  \n",
       "std          2.200245     0.546215     0.262126        0.366676  \n",
       "min          0.000000     0.000000     0.000000        0.000000  \n",
       "25%          0.000000     0.000000     0.000000        0.000000  \n",
       "50%          1.000000     0.000000     0.000000        0.000000  \n",
       "75%          2.000000     0.000000     0.000000        0.000000  \n",
       "max         33.000000    13.000000     5.000000        1.000000  "
      ]
     },
     "execution_count": 18,
     "metadata": {},
     "output_type": "execute_result"
    }
   ],
   "source": [
    "df.describe()"
   ]
  },
  {
   "cell_type": "code",
   "execution_count": 19,
   "metadata": {},
   "outputs": [
    {
     "data": {
      "text/html": [
       "<div>\n",
       "<style scoped>\n",
       "    .dataframe tbody tr th:only-of-type {\n",
       "        vertical-align: middle;\n",
       "    }\n",
       "\n",
       "    .dataframe tbody tr th {\n",
       "        vertical-align: top;\n",
       "    }\n",
       "\n",
       "    .dataframe thead th {\n",
       "        text-align: right;\n",
       "    }\n",
       "</style>\n",
       "<table border=\"1\" class=\"dataframe\">\n",
       "  <thead>\n",
       "    <tr style=\"text-align: right;\">\n",
       "      <th></th>\n",
       "      <th>credit_policy</th>\n",
       "      <th>purpose</th>\n",
       "      <th>int_rate</th>\n",
       "      <th>installment</th>\n",
       "      <th>log_annual_inc</th>\n",
       "      <th>dti</th>\n",
       "      <th>fico</th>\n",
       "      <th>days_with_cr_line</th>\n",
       "      <th>revol_bal</th>\n",
       "      <th>revol_util</th>\n",
       "      <th>inq_last_6mths</th>\n",
       "      <th>delinq_2yrs</th>\n",
       "      <th>pub_rec</th>\n",
       "      <th>not_fully_paid</th>\n",
       "    </tr>\n",
       "  </thead>\n",
       "  <tbody>\n",
       "    <tr>\n",
       "      <th>0</th>\n",
       "      <td>1</td>\n",
       "      <td>debt_consolidation</td>\n",
       "      <td>0.1189</td>\n",
       "      <td>829.10</td>\n",
       "      <td>11.350407</td>\n",
       "      <td>19.48</td>\n",
       "      <td>737</td>\n",
       "      <td>5639.958333</td>\n",
       "      <td>28854</td>\n",
       "      <td>52.1</td>\n",
       "      <td>0</td>\n",
       "      <td>0</td>\n",
       "      <td>0</td>\n",
       "      <td>0</td>\n",
       "    </tr>\n",
       "    <tr>\n",
       "      <th>1</th>\n",
       "      <td>1</td>\n",
       "      <td>credit_card</td>\n",
       "      <td>0.1071</td>\n",
       "      <td>228.22</td>\n",
       "      <td>11.082143</td>\n",
       "      <td>14.29</td>\n",
       "      <td>707</td>\n",
       "      <td>2760.000000</td>\n",
       "      <td>33623</td>\n",
       "      <td>76.7</td>\n",
       "      <td>0</td>\n",
       "      <td>0</td>\n",
       "      <td>0</td>\n",
       "      <td>0</td>\n",
       "    </tr>\n",
       "    <tr>\n",
       "      <th>2</th>\n",
       "      <td>1</td>\n",
       "      <td>debt_consolidation</td>\n",
       "      <td>0.1357</td>\n",
       "      <td>366.86</td>\n",
       "      <td>10.373491</td>\n",
       "      <td>11.63</td>\n",
       "      <td>682</td>\n",
       "      <td>4710.000000</td>\n",
       "      <td>3511</td>\n",
       "      <td>25.6</td>\n",
       "      <td>1</td>\n",
       "      <td>0</td>\n",
       "      <td>0</td>\n",
       "      <td>0</td>\n",
       "    </tr>\n",
       "    <tr>\n",
       "      <th>3</th>\n",
       "      <td>1</td>\n",
       "      <td>debt_consolidation</td>\n",
       "      <td>0.1008</td>\n",
       "      <td>162.34</td>\n",
       "      <td>11.350407</td>\n",
       "      <td>8.10</td>\n",
       "      <td>712</td>\n",
       "      <td>2699.958333</td>\n",
       "      <td>33667</td>\n",
       "      <td>73.2</td>\n",
       "      <td>1</td>\n",
       "      <td>0</td>\n",
       "      <td>0</td>\n",
       "      <td>0</td>\n",
       "    </tr>\n",
       "    <tr>\n",
       "      <th>4</th>\n",
       "      <td>1</td>\n",
       "      <td>credit_card</td>\n",
       "      <td>0.1426</td>\n",
       "      <td>102.92</td>\n",
       "      <td>11.299732</td>\n",
       "      <td>14.97</td>\n",
       "      <td>667</td>\n",
       "      <td>4066.000000</td>\n",
       "      <td>4740</td>\n",
       "      <td>39.5</td>\n",
       "      <td>0</td>\n",
       "      <td>1</td>\n",
       "      <td>0</td>\n",
       "      <td>0</td>\n",
       "    </tr>\n",
       "  </tbody>\n",
       "</table>\n",
       "</div>"
      ],
      "text/plain": [
       "   credit_policy             purpose  int_rate  installment  log_annual_inc  \\\n",
       "0              1  debt_consolidation    0.1189       829.10       11.350407   \n",
       "1              1         credit_card    0.1071       228.22       11.082143   \n",
       "2              1  debt_consolidation    0.1357       366.86       10.373491   \n",
       "3              1  debt_consolidation    0.1008       162.34       11.350407   \n",
       "4              1         credit_card    0.1426       102.92       11.299732   \n",
       "\n",
       "     dti  fico  days_with_cr_line  revol_bal  revol_util  inq_last_6mths  \\\n",
       "0  19.48   737        5639.958333      28854        52.1               0   \n",
       "1  14.29   707        2760.000000      33623        76.7               0   \n",
       "2  11.63   682        4710.000000       3511        25.6               1   \n",
       "3   8.10   712        2699.958333      33667        73.2               1   \n",
       "4  14.97   667        4066.000000       4740        39.5               0   \n",
       "\n",
       "   delinq_2yrs  pub_rec  not_fully_paid  \n",
       "0            0        0               0  \n",
       "1            0        0               0  \n",
       "2            0        0               0  \n",
       "3            0        0               0  \n",
       "4            1        0               0  "
      ]
     },
     "execution_count": 19,
     "metadata": {},
     "output_type": "execute_result"
    }
   ],
   "source": [
    "df.head()"
   ]
  },
  {
   "cell_type": "code",
   "execution_count": 23,
   "metadata": {},
   "outputs": [
    {
     "name": "stdout",
     "output_type": "stream",
     "text": [
      "Numerical Columns: \n",
      " Index(['credit_policy', 'int_rate', 'installment', 'log_annual_inc', 'dti',\n",
      "       'fico', 'days_with_cr_line', 'revol_bal', 'revol_util',\n",
      "       'inq_last_6mths', 'delinq_2yrs', 'pub_rec', 'not_fully_paid'],\n",
      "      dtype='object')\n",
      "Categorical Columns: \n",
      " Index(['purpose'], dtype='object')\n"
     ]
    }
   ],
   "source": [
    "num_col = df.select_dtypes(include=np.number).columns\n",
    "print(\"Numerical Columns: \\n\",num_col)\n",
    "\n",
    "cat_col = df.select_dtypes(exclude=np.number).columns\n",
    "print(\"Categorical Columns: \\n\",cat_col)"
   ]
  },
  {
   "cell_type": "markdown",
   "metadata": {},
   "source": [
    "# 4. Data Pre-processing"
   ]
  },
  {
   "cell_type": "code",
   "execution_count": 24,
   "metadata": {},
   "outputs": [],
   "source": [
    "#lets do OneHotEncoding for the column \"purpose\"  as the model would expecting numeric features\n",
    "\n",
    "df = pd.get_dummies(prefix='purpose', data=df ,columns=['purpose'])"
   ]
  },
  {
   "cell_type": "code",
   "execution_count": 25,
   "metadata": {},
   "outputs": [
    {
     "name": "stdout",
     "output_type": "stream",
     "text": [
      "Numerical Columns: \n",
      " Index(['credit_policy', 'int_rate', 'installment', 'log_annual_inc', 'dti',\n",
      "       'fico', 'days_with_cr_line', 'revol_bal', 'revol_util',\n",
      "       'inq_last_6mths', 'delinq_2yrs', 'pub_rec', 'not_fully_paid',\n",
      "       'purpose_all_other', 'purpose_credit_card',\n",
      "       'purpose_debt_consolidation', 'purpose_educational',\n",
      "       'purpose_home_improvement', 'purpose_major_purchase',\n",
      "       'purpose_small_business'],\n",
      "      dtype='object')\n",
      "Categorical Columns: \n",
      " Index([], dtype='object')\n"
     ]
    }
   ],
   "source": [
    "num_col = df.select_dtypes(include=np.number).columns\n",
    "print(\"Numerical Columns: \\n\",num_col)\n",
    "\n",
    "cat_col = df.select_dtypes(exclude=np.number).columns\n",
    "print(\"Categorical Columns: \\n\",cat_col)"
   ]
  },
  {
   "cell_type": "code",
   "execution_count": 28,
   "metadata": {},
   "outputs": [
    {
     "name": "stdout",
     "output_type": "stream",
     "text": [
      "credit_policy                 0\n",
      "int_rate                      0\n",
      "installment                   0\n",
      "log_annual_inc                0\n",
      "dti                           0\n",
      "fico                          0\n",
      "days_with_cr_line             0\n",
      "revol_bal                     0\n",
      "revol_util                    0\n",
      "inq_last_6mths                0\n",
      "delinq_2yrs                   0\n",
      "pub_rec                       0\n",
      "not_fully_paid                0\n",
      "purpose_all_other             0\n",
      "purpose_credit_card           0\n",
      "purpose_debt_consolidation    0\n",
      "purpose_educational           0\n",
      "purpose_home_improvement      0\n",
      "purpose_major_purchase        0\n",
      "purpose_small_business        0\n",
      "dtype: int64\n",
      "(9578, 20)\n"
     ]
    }
   ],
   "source": [
    "print(df.isnull().sum())\n",
    "print(df.shape)"
   ]
  },
  {
   "cell_type": "markdown",
   "metadata": {},
   "source": [
    "# 5. Exploratory Data analysis"
   ]
  },
  {
   "cell_type": "code",
   "execution_count": 29,
   "metadata": {},
   "outputs": [
    {
     "data": {
      "text/plain": [
       "<function matplotlib.pyplot.show(*args, **kw)>"
      ]
     },
     "execution_count": 29,
     "metadata": {},
     "output_type": "execute_result"
    },
    {
     "data": {
      "image/png": "[encoded data removed]",
      "text/plain": [
       "<Figure size 432x288 with 1 Axes>"
      ]
     },
     "metadata": {
      "needs_background": "light"
     },
     "output_type": "display_data"
    }
   ],
   "source": [
    "#Check the distribution of y variable to see if its a case of unbalance class\n",
    "\n",
    "sns.countplot(y=df['not_fully_paid'] , data=df)\n",
    "plt.xlabel(\"count of each target class\")\n",
    "plt.ylabel(\"Target classes\")\n",
    "plt.show"
   ]
  },
  {
   "cell_type": "code",
   "execution_count": 31,
   "metadata": {
    "scrolled": true
   },
   "outputs": [
    {
     "data": {
      "image/png": "[encoded data removed]",
      "text/plain": [
       "<Figure size 1080x864 with 20 Axes>"
      ]
     },
     "metadata": {
      "needs_background": "light"
     },
     "output_type": "display_data"
    }
   ],
   "source": [
    "# Check the distribution of all the features\n",
    "\n",
    "df.hist(figsize=(15,12),bins=15)\n",
    "plt.title(\"Features Distribution\")\n",
    "plt.show()"
   ]
  },
  {
   "cell_type": "markdown",
   "metadata": {},
   "source": [
    "## 6. Model Building"
   ]
  },
  {
   "cell_type": "code",
   "execution_count": 32,
   "metadata": {},
   "outputs": [],
   "source": [
    "# Train_test_split\n",
    "X = df.drop(['not_fully_paid'], axis=1)\n",
    "y = df['not_fully_paid']\n",
    "\n",
    "X_train, X_test, y_train, y_test = train_test_split(X,y, test_size=0.3 , random_state=500)"
   ]
  },
  {
   "cell_type": "code",
   "execution_count": 33,
   "metadata": {},
   "outputs": [
    {
     "data": {
      "text/plain": [
       "((6704, 19), (2874, 19), (6704,), (2874,))"
      ]
     },
     "execution_count": 33,
     "metadata": {},
     "output_type": "execute_result"
    }
   ],
   "source": [
    "X_train.shape, X_test.shape, y_train.shape, y_test.shape"
   ]
  },
  {
   "cell_type": "markdown",
   "metadata": {},
   "source": [
    "## Decision tree with criterion = gini"
   ]
  },
  {
   "cell_type": "code",
   "execution_count": 35,
   "metadata": {},
   "outputs": [],
   "source": [
    "clf = DecisionTreeClassifier(criterion='gini' , random_state=0)\n",
    "clf.fit(X_train,y_train)\n",
    "y_pred = clf.predict(X_test)"
   ]
  },
  {
   "cell_type": "code",
   "execution_count": 52,
   "metadata": {},
   "outputs": [
    {
     "name": "stdout",
     "output_type": "stream",
     "text": [
      "confusin matrix: \n",
      " [[2018  374]\n",
      " [ 369  113]]\n",
      "\n",
      " acurracy score: \n",
      " 0.7414752957550452\n",
      "\n",
      " classification report: \n",
      "               precision    recall  f1-score   support\n",
      "\n",
      "           0       0.85      0.84      0.84      2392\n",
      "           1       0.23      0.23      0.23       482\n",
      "\n",
      "    accuracy                           0.74      2874\n",
      "   macro avg       0.54      0.54      0.54      2874\n",
      "weighted avg       0.74      0.74      0.74      2874\n",
      "\n"
     ]
    }
   ],
   "source": [
    "print(\"confusin matrix: \\n\", confusion_matrix(y_test,y_pred))\n",
    "print(\"\\n acurracy score: \\n\", accuracy_score(y_test,y_pred))\n",
    "print(\"\\n classification report: \\n\", classification_report(y_test,y_pred))"
   ]
  },
  {
   "cell_type": "markdown",
   "metadata": {},
   "source": [
    "## Decision tree with criterion = entropy"
   ]
  },
  {
   "cell_type": "code",
   "execution_count": 53,
   "metadata": {},
   "outputs": [
    {
     "name": "stdout",
     "output_type": "stream",
     "text": [
      "confusin matrix: \n",
      " [[2034  358]\n",
      " [ 396   86]]\n",
      "\n",
      " acurracy score: \n",
      " 0.7376478775226165\n",
      "\n",
      " classification report: \n",
      "               precision    recall  f1-score   support\n",
      "\n",
      "           0       0.84      0.85      0.84      2392\n",
      "           1       0.19      0.18      0.19       482\n",
      "\n",
      "    accuracy                           0.74      2874\n",
      "   macro avg       0.52      0.51      0.51      2874\n",
      "weighted avg       0.73      0.74      0.73      2874\n",
      "\n"
     ]
    }
   ],
   "source": [
    "clf = DecisionTreeClassifier(criterion='entropy' , random_state=0)\n",
    "clf.fit(X_train,y_train)\n",
    "y_pred = clf.predict(X_test)\n",
    "print(\"confusin matrix: \\n\", confusion_matrix(y_test,y_pred))\n",
    "print(\"\\n acurracy score: \\n\", accuracy_score(y_test,y_pred))\n",
    "print(\"\\n classification report: \\n\", classification_report(y_test,y_pred))"
   ]
  },
  {
   "cell_type": "markdown",
   "metadata": {},
   "source": [
    "## Handle class Imbalance"
   ]
  },
  {
   "cell_type": "markdown",
   "metadata": {},
   "source": [
    "**The class 1 is very less ,hence we need to handle class imbalance by oversampling**"
   ]
  },
  {
   "cell_type": "code",
   "execution_count": 55,
   "metadata": {},
   "outputs": [],
   "source": [
    "from imblearn.over_sampling import RandomOverSampler\n",
    "\n",
    "ros = RandomOverSampler()\n",
    "X_ros,y_ros = ros.fit_sample(X,y)\n",
    "\n",
    "y_ros.value_counts()\n",
    "X_train, X_test, y_train, y_test = train_test_split(X_ros,y_ros, test_size=0.3 , random_state=500)"
   ]
  },
  {
   "cell_type": "code",
   "execution_count": 56,
   "metadata": {},
   "outputs": [
    {
     "data": {
      "text/plain": [
       "1    8045\n",
       "0    8045\n",
       "Name: not_fully_paid, dtype: int64"
      ]
     },
     "execution_count": 56,
     "metadata": {},
     "output_type": "execute_result"
    }
   ],
   "source": [
    "y_ros.value_counts()"
   ]
  },
  {
   "cell_type": "code",
   "execution_count": 57,
   "metadata": {},
   "outputs": [
    {
     "data": {
      "text/plain": [
       "((11263, 19), (4827, 19), (11263,), (4827,))"
      ]
     },
     "execution_count": 57,
     "metadata": {},
     "output_type": "execute_result"
    }
   ],
   "source": [
    "X_train.shape, X_test.shape, y_train.shape, y_test.shape"
   ]
  },
  {
   "cell_type": "markdown",
   "metadata": {},
   "source": [
    "## Decision tree with criterion = gini"
   ]
  },
  {
   "cell_type": "code",
   "execution_count": 58,
   "metadata": {},
   "outputs": [
    {
     "name": "stdout",
     "output_type": "stream",
     "text": [
      "confusin matrix: \n",
      " [[1979  509]\n",
      " [  42 2297]]\n",
      "\n",
      " acurracy score: \n",
      " 0.8858504246944272\n",
      "\n",
      " classification report: \n",
      "               precision    recall  f1-score   support\n",
      "\n",
      "           0       0.98      0.80      0.88      2488\n",
      "           1       0.82      0.98      0.89      2339\n",
      "\n",
      "    accuracy                           0.89      4827\n",
      "   macro avg       0.90      0.89      0.89      4827\n",
      "weighted avg       0.90      0.89      0.89      4827\n",
      "\n"
     ]
    }
   ],
   "source": [
    "clf = DecisionTreeClassifier(criterion='gini' , random_state=0)\n",
    "clf.fit(X_train,y_train)\n",
    "y_pred = clf.predict(X_test)\n",
    "print(\"confusin matrix: \\n\", confusion_matrix(y_test,y_pred))\n",
    "print(\"\\n acurracy score: \\n\", accuracy_score(y_test,y_pred))\n",
    "print(\"\\n classification report: \\n\", classification_report(y_test,y_pred))"
   ]
  },
  {
   "cell_type": "markdown",
   "metadata": {},
   "source": [
    "## Decision tree with criterion = entropy"
   ]
  },
  {
   "cell_type": "code",
   "execution_count": 59,
   "metadata": {},
   "outputs": [
    {
     "name": "stdout",
     "output_type": "stream",
     "text": [
      "confusin matrix: \n",
      " [[1983  505]\n",
      " [  41 2298]]\n",
      "\n",
      " acurracy score: \n",
      " 0.886886264760721\n",
      "\n",
      " classification report: \n",
      "               precision    recall  f1-score   support\n",
      "\n",
      "           0       0.98      0.80      0.88      2488\n",
      "           1       0.82      0.98      0.89      2339\n",
      "\n",
      "    accuracy                           0.89      4827\n",
      "   macro avg       0.90      0.89      0.89      4827\n",
      "weighted avg       0.90      0.89      0.89      4827\n",
      "\n"
     ]
    }
   ],
   "source": [
    "clf = DecisionTreeClassifier(criterion='entropy' , random_state=0)\n",
    "clf.fit(X_train,y_train)\n",
    "y_pred = clf.predict(X_test)\n",
    "print(\"confusin matrix: \\n\", confusion_matrix(y_test,y_pred))\n",
    "print(\"\\n acurracy score: \\n\", accuracy_score(y_test,y_pred))\n",
    "print(\"\\n classification report: \\n\", classification_report(y_test,y_pred))"
   ]
  },
  {
   "cell_type": "markdown",
   "metadata": {},
   "source": [
    "## Hyper-Parameters with Grid Search CV"
   ]
  },
  {
   "cell_type": "code",
   "execution_count": 60,
   "metadata": {},
   "outputs": [
    {
     "name": "stdout",
     "output_type": "stream",
     "text": [
      "Fitting 5 folds for each of 14 candidates, totalling 70 fits\n"
     ]
    },
    {
     "name": "stderr",
     "output_type": "stream",
     "text": [
      "[Parallel(n_jobs=1)]: Using backend SequentialBackend with 1 concurrent workers.\n",
      "[Parallel(n_jobs=1)]: Done   1 out of   1 | elapsed:    0.0s remaining:    0.0s\n",
      "[Parallel(n_jobs=1)]: Done   2 out of   2 | elapsed:    0.0s remaining:    0.0s\n"
     ]
    },
    {
     "name": "stdout",
     "output_type": "stream",
     "text": [
      "[CV] criterion=gini, max_depth=10 ....................................\n",
      "[CV] ........ criterion=gini, max_depth=10, score=0.647, total=   0.1s\n",
      "[CV] criterion=gini, max_depth=10 ....................................\n",
      "[CV] ........ criterion=gini, max_depth=10, score=0.690, total=   0.0s\n",
      "[CV] criterion=gini, max_depth=10 ....................................\n",
      "[CV] ........ criterion=gini, max_depth=10, score=0.688, total=   0.0s\n",
      "[CV] criterion=gini, max_depth=10 ....................................\n",
      "[CV] ........ criterion=gini, max_depth=10, score=0.679, total=   0.1s\n",
      "[CV] criterion=gini, max_depth=10 ....................................\n",
      "[CV] ........ criterion=gini, max_depth=10, score=0.682, total=   0.1s\n",
      "[CV] criterion=gini, max_depth=15 ....................................\n",
      "[CV] ........ criterion=gini, max_depth=15, score=0.747, total=   0.1s\n",
      "[CV] criterion=gini, max_depth=15 ....................................\n",
      "[CV] ........ criterion=gini, max_depth=15, score=0.776, total=   0.1s\n",
      "[CV] criterion=gini, max_depth=15 ....................................\n",
      "[CV] ........ criterion=gini, max_depth=15, score=0.782, total=   0.1s\n",
      "[CV] criterion=gini, max_depth=15 ....................................\n",
      "[CV] ........ criterion=gini, max_depth=15, score=0.771, total=   0.1s\n",
      "[CV] criterion=gini, max_depth=15 ....................................\n",
      "[CV] ........ criterion=gini, max_depth=15, score=0.785, total=   0.1s\n",
      "[CV] criterion=gini, max_depth=20 ....................................\n",
      "[CV] ........ criterion=gini, max_depth=20, score=0.816, total=   0.1s\n",
      "[CV] criterion=gini, max_depth=20 ....................................\n",
      "[CV] ........ criterion=gini, max_depth=20, score=0.850, total=   0.1s\n",
      "[CV] criterion=gini, max_depth=20 ....................................\n",
      "[CV] ........ criterion=gini, max_depth=20, score=0.853, total=   0.1s\n",
      "[CV] criterion=gini, max_depth=20 ....................................\n",
      "[CV] ........ criterion=gini, max_depth=20, score=0.827, total=   0.1s\n",
      "[CV] criterion=gini, max_depth=20 ....................................\n",
      "[CV] ........ criterion=gini, max_depth=20, score=0.855, total=   0.1s\n",
      "[CV] criterion=gini, max_depth=25 ....................................\n",
      "[CV] ........ criterion=gini, max_depth=25, score=0.863, total=   0.1s\n",
      "[CV] criterion=gini, max_depth=25 ....................................\n",
      "[CV] ........ criterion=gini, max_depth=25, score=0.877, total=   0.1s\n",
      "[CV] criterion=gini, max_depth=25 ....................................\n",
      "[CV] ........ criterion=gini, max_depth=25, score=0.862, total=   0.1s\n",
      "[CV] criterion=gini, max_depth=25 ....................................\n",
      "[CV] ........ criterion=gini, max_depth=25, score=0.850, total=   0.1s\n",
      "[CV] criterion=gini, max_depth=25 ....................................\n",
      "[CV] ........ criterion=gini, max_depth=25, score=0.866, total=   0.1s\n",
      "[CV] criterion=gini, max_depth=30 ....................................\n",
      "[CV] ........ criterion=gini, max_depth=30, score=0.864, total=   0.1s\n",
      "[CV] criterion=gini, max_depth=30 ....................................\n",
      "[CV] ........ criterion=gini, max_depth=30, score=0.881, total=   0.1s\n",
      "[CV] criterion=gini, max_depth=30 ....................................\n",
      "[CV] ........ criterion=gini, max_depth=30, score=0.869, total=   0.1s\n",
      "[CV] criterion=gini, max_depth=30 ....................................\n",
      "[CV] ........ criterion=gini, max_depth=30, score=0.856, total=   0.1s\n",
      "[CV] criterion=gini, max_depth=30 ....................................\n",
      "[CV] ........ criterion=gini, max_depth=30, score=0.869, total=   0.1s\n",
      "[CV] criterion=gini, max_depth=35 ....................................\n",
      "[CV] ........ criterion=gini, max_depth=35, score=0.868, total=   0.1s\n",
      "[CV] criterion=gini, max_depth=35 ....................................\n",
      "[CV] ........ criterion=gini, max_depth=35, score=0.876, total=   0.1s\n",
      "[CV] criterion=gini, max_depth=35 ....................................\n",
      "[CV] ........ criterion=gini, max_depth=35, score=0.872, total=   0.1s\n",
      "[CV] criterion=gini, max_depth=35 ....................................\n",
      "[CV] ........ criterion=gini, max_depth=35, score=0.851, total=   0.1s\n",
      "[CV] criterion=gini, max_depth=35 ....................................\n",
      "[CV] ........ criterion=gini, max_depth=35, score=0.868, total=   0.1s\n",
      "[CV] criterion=gini, max_depth=40 ....................................\n",
      "[CV] ........ criterion=gini, max_depth=40, score=0.866, total=   0.1s\n",
      "[CV] criterion=gini, max_depth=40 ....................................\n",
      "[CV] ........ criterion=gini, max_depth=40, score=0.877, total=   0.1s\n",
      "[CV] criterion=gini, max_depth=40 ....................................\n",
      "[CV] ........ criterion=gini, max_depth=40, score=0.872, total=   0.1s\n",
      "[CV] criterion=gini, max_depth=40 ....................................\n",
      "[CV] ........ criterion=gini, max_depth=40, score=0.864, total=   0.1s\n",
      "[CV] criterion=gini, max_depth=40 ....................................\n",
      "[CV] ........ criterion=gini, max_depth=40, score=0.861, total=   0.1s\n",
      "[CV] criterion=entropy, max_depth=10 .................................\n",
      "[CV] ..... criterion=entropy, max_depth=10, score=0.639, total=   0.1s\n",
      "[CV] criterion=entropy, max_depth=10 .................................\n",
      "[CV] ..... criterion=entropy, max_depth=10, score=0.680, total=   0.1s\n",
      "[CV] criterion=entropy, max_depth=10 .................................\n",
      "[CV] ..... criterion=entropy, max_depth=10, score=0.675, total=   0.1s\n",
      "[CV] criterion=entropy, max_depth=10 .................................\n",
      "[CV] ..... criterion=entropy, max_depth=10, score=0.676, total=   0.1s\n",
      "[CV] criterion=entropy, max_depth=10 .................................\n",
      "[CV] ..... criterion=entropy, max_depth=10, score=0.667, total=   0.1s\n",
      "[CV] criterion=entropy, max_depth=15 .................................\n",
      "[CV] ..... criterion=entropy, max_depth=15, score=0.722, total=   0.1s\n",
      "[CV] criterion=entropy, max_depth=15 .................................\n",
      "[CV] ..... criterion=entropy, max_depth=15, score=0.775, total=   0.1s\n",
      "[CV] criterion=entropy, max_depth=15 .................................\n",
      "[CV] ..... criterion=entropy, max_depth=15, score=0.770, total=   0.1s\n",
      "[CV] criterion=entropy, max_depth=15 .................................\n",
      "[CV] ..... criterion=entropy, max_depth=15, score=0.749, total=   0.1s\n",
      "[CV] criterion=entropy, max_depth=15 .................................\n",
      "[CV] ..... criterion=entropy, max_depth=15, score=0.760, total=   0.1s\n",
      "[CV] criterion=entropy, max_depth=20 .................................\n",
      "[CV] ..... criterion=entropy, max_depth=20, score=0.800, total=   0.1s\n",
      "[CV] criterion=entropy, max_depth=20 .................................\n",
      "[CV] ..... criterion=entropy, max_depth=20, score=0.833, total=   0.1s\n",
      "[CV] criterion=entropy, max_depth=20 .................................\n",
      "[CV] ..... criterion=entropy, max_depth=20, score=0.837, total=   0.1s\n",
      "[CV] criterion=entropy, max_depth=20 .................................\n",
      "[CV] ..... criterion=entropy, max_depth=20, score=0.799, total=   0.1s\n",
      "[CV] criterion=entropy, max_depth=20 .................................\n",
      "[CV] ..... criterion=entropy, max_depth=20, score=0.829, total=   0.1s\n",
      "[CV] criterion=entropy, max_depth=25 .................................\n",
      "[CV] ..... criterion=entropy, max_depth=25, score=0.847, total=   0.1s\n",
      "[CV] criterion=entropy, max_depth=25 .................................\n",
      "[CV] ..... criterion=entropy, max_depth=25, score=0.859, total=   0.1s\n",
      "[CV] criterion=entropy, max_depth=25 .................................\n",
      "[CV] ..... criterion=entropy, max_depth=25, score=0.866, total=   0.1s\n",
      "[CV] criterion=entropy, max_depth=25 .................................\n",
      "[CV] ..... criterion=entropy, max_depth=25, score=0.854, total=   0.1s\n",
      "[CV] criterion=entropy, max_depth=25 .................................\n",
      "[CV] ..... criterion=entropy, max_depth=25, score=0.864, total=   0.1s\n",
      "[CV] criterion=entropy, max_depth=30 .................................\n",
      "[CV] ..... criterion=entropy, max_depth=30, score=0.855, total=   0.1s\n",
      "[CV] criterion=entropy, max_depth=30 .................................\n",
      "[CV] ..... criterion=entropy, max_depth=30, score=0.856, total=   0.1s\n",
      "[CV] criterion=entropy, max_depth=30 .................................\n",
      "[CV] ..... criterion=entropy, max_depth=30, score=0.872, total=   0.1s\n",
      "[CV] criterion=entropy, max_depth=30 .................................\n"
     ]
    },
    {
     "name": "stdout",
     "output_type": "stream",
     "text": [
      "[CV] ..... criterion=entropy, max_depth=30, score=0.853, total=   0.1s\n",
      "[CV] criterion=entropy, max_depth=30 .................................\n",
      "[CV] ..... criterion=entropy, max_depth=30, score=0.874, total=   0.1s\n",
      "[CV] criterion=entropy, max_depth=35 .................................\n",
      "[CV] ..... criterion=entropy, max_depth=35, score=0.860, total=   0.1s\n",
      "[CV] criterion=entropy, max_depth=35 .................................\n",
      "[CV] ..... criterion=entropy, max_depth=35, score=0.860, total=   0.1s\n",
      "[CV] criterion=entropy, max_depth=35 .................................\n",
      "[CV] ..... criterion=entropy, max_depth=35, score=0.876, total=   0.1s\n",
      "[CV] criterion=entropy, max_depth=35 .................................\n",
      "[CV] ..... criterion=entropy, max_depth=35, score=0.863, total=   0.1s\n",
      "[CV] criterion=entropy, max_depth=35 .................................\n",
      "[CV] ..... criterion=entropy, max_depth=35, score=0.870, total=   0.1s\n",
      "[CV] criterion=entropy, max_depth=40 .................................\n",
      "[CV] ..... criterion=entropy, max_depth=40, score=0.852, total=   0.1s\n",
      "[CV] criterion=entropy, max_depth=40 .................................\n",
      "[CV] ..... criterion=entropy, max_depth=40, score=0.864, total=   0.1s\n",
      "[CV] criterion=entropy, max_depth=40 .................................\n",
      "[CV] ..... criterion=entropy, max_depth=40, score=0.874, total=   0.1s\n",
      "[CV] criterion=entropy, max_depth=40 .................................\n",
      "[CV] ..... criterion=entropy, max_depth=40, score=0.867, total=   0.1s\n",
      "[CV] criterion=entropy, max_depth=40 .................................\n",
      "[CV] ..... criterion=entropy, max_depth=40, score=0.871, total=   0.1s\n"
     ]
    },
    {
     "name": "stderr",
     "output_type": "stream",
     "text": [
      "[Parallel(n_jobs=1)]: Done  70 out of  70 | elapsed:    5.9s finished\n"
     ]
    },
    {
     "data": {
      "text/plain": [
       "GridSearchCV(cv=None, error_score=nan,\n",
       "             estimator=DecisionTreeClassifier(ccp_alpha=0.0, class_weight=None,\n",
       "                                              criterion='gini', max_depth=None,\n",
       "                                              max_features=None,\n",
       "                                              max_leaf_nodes=None,\n",
       "                                              min_impurity_decrease=0.0,\n",
       "                                              min_impurity_split=None,\n",
       "                                              min_samples_leaf=1,\n",
       "                                              min_samples_split=2,\n",
       "                                              min_weight_fraction_leaf=0.0,\n",
       "                                              presort='deprecated',\n",
       "                                              random_state=None,\n",
       "                                              splitter='best'),\n",
       "             iid='deprecated', n_jobs=None,\n",
       "             param_grid={'criterion': ['gini', 'entropy'],\n",
       "                         'max_depth': [10, 15, 20, 25, 30, 35, 40]},\n",
       "             pre_dispatch='2*n_jobs', refit=True, return_train_score=False,\n",
       "             scoring=None, verbose=3)"
      ]
     },
     "execution_count": 60,
     "metadata": {},
     "output_type": "execute_result"
    }
   ],
   "source": [
    "dtclassifier = DecisionTreeClassifier()\n",
    "\n",
    "#defining parameter range\n",
    "param_grid = {'criterion' : ['gini','entropy'],\n",
    "             'max_depth' : [10,15,20,25,30,35,40]}\n",
    "\n",
    "grid = GridSearchCV(dtclassifier, param_grid , refit=True, verbose=3)\n",
    "\n",
    "#fitting the model for grid search\n",
    "grid.fit(X_train,y_train)"
   ]
  },
  {
   "cell_type": "code",
   "execution_count": 61,
   "metadata": {},
   "outputs": [
    {
     "name": "stdout",
     "output_type": "stream",
     "text": [
      "{'criterion': 'gini', 'max_depth': 30}\n"
     ]
    }
   ],
   "source": [
    "# Best parameter after hypertunning\n",
    "print(grid.best_params_)"
   ]
  },
  {
   "cell_type": "code",
   "execution_count": 63,
   "metadata": {},
   "outputs": [
    {
     "name": "stdout",
     "output_type": "stream",
     "text": [
      "DecisionTreeClassifier(ccp_alpha=0.0, class_weight=None, criterion='gini',\n",
      "                       max_depth=30, max_features=None, max_leaf_nodes=None,\n",
      "                       min_impurity_decrease=0.0, min_impurity_split=None,\n",
      "                       min_samples_leaf=1, min_samples_split=2,\n",
      "                       min_weight_fraction_leaf=0.0, presort='deprecated',\n",
      "                       random_state=None, splitter='best')\n"
     ]
    }
   ],
   "source": [
    "# Model parameter\n",
    "print(grid.best_estimator_)"
   ]
  },
  {
   "cell_type": "code",
   "execution_count": 64,
   "metadata": {},
   "outputs": [
    {
     "name": "stdout",
     "output_type": "stream",
     "text": [
      "confusin matrix: \n",
      " [[1965  523]\n",
      " [  42 2297]]\n",
      "\n",
      " acurracy score: \n",
      " 0.8829500725088046\n",
      "\n",
      " classification report: \n",
      "               precision    recall  f1-score   support\n",
      "\n",
      "           0       0.98      0.79      0.87      2488\n",
      "           1       0.81      0.98      0.89      2339\n",
      "\n",
      "    accuracy                           0.88      4827\n",
      "   macro avg       0.90      0.89      0.88      4827\n",
      "weighted avg       0.90      0.88      0.88      4827\n",
      "\n"
     ]
    }
   ],
   "source": [
    "# Prediciton using best parameters\n",
    "grid_prediction = grid.predict(X_test)\n",
    "\n",
    "print(\"confusin matrix: \\n\", confusion_matrix(y_test,grid_prediction))\n",
    "print(\"\\n acurracy score: \\n\", accuracy_score(y_test,grid_prediction))\n",
    "print(\"\\n classification report: \\n\", classification_report(y_test,grid_prediction))"
   ]
  },
  {
   "cell_type": "code",
   "execution_count": null,
   "metadata": {},
   "outputs": [],
   "source": []
  },
  {
   "cell_type": "code",
   "execution_count": null,
   "metadata": {},
   "outputs": [],
   "source": []
  },
  {
   "cell_type": "code",
   "execution_count": null,
   "metadata": {},
   "outputs": [],
   "source": []
  },
  {
   "cell_type": "code",
   "execution_count": null,
   "metadata": {},
   "outputs": [],
   "source": []
  },
  {
   "cell_type": "code",
   "execution_count": null,
   "metadata": {},
   "outputs": [],
   "source": []
  }
 ],
 "metadata": {
  "kernelspec": {
   "display_name": "Python 3",
   "language": "python",
   "name": "python3"
  },
  "language_info": {
   "codemirror_mode": {
    "name": "ipython",
    "version": 3
   },
   "file_extension": ".py",
   "mimetype": "text/x-python",
   "name": "python",
   "nbconvert_exporter": "python",
   "pygments_lexer": "ipython3",
   "version": "3.7.4"
  }
 },
 "nbformat": 4,
 "nbformat_minor": 4
}
